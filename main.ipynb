{
 "cells": [
  {
   "cell_type": "code",
   "execution_count": null,
   "metadata": {},
   "outputs": [],
   "source": [
    "import torch\n",
    "print(\"PyTorch 版本:\", torch.__version__)\n",
    "print(\"CUDA 是否可用:\", torch.cuda.is_available())\n",
    "print(\"CUDA 版本:\", torch.version.cuda)\n",
    "print(\"GPU 數量:\", torch.cuda.device_count())\n",
    "print(\"GPU 名稱:\", torch.cuda.get_device_name(0))\n"
   ]
  },
  {
   "cell_type": "code",
   "execution_count": null,
   "metadata": {},
   "outputs": [],
   "source": [
    "import torch\n",
    "from data_generator import generate_vrp_data\n",
    "from model import VRPModel\n",
    "from train import train_model\n",
    "from evaluate import evaluate_model\n",
    "import utils\n",
    "\n",
    "# 產生 VRP 數據\n",
    "num_customers = 20\n",
    "num_vehicles = 2\n",
    "vrp_data = generate_vrp_data(num_customers, num_vehicles)\n",
    "utils.visualize_data(vrp_data)  # 繪製客戶點\n",
    "\n",
    "# 初始化模型\n",
    "device = torch.device(\"cuda\" if torch.cuda.is_available() else \"cpu\")\n",
    "model = VRPModel().to(device)\n",
    "\n",
    "# 訓練模型\n",
    "trained_model = train_model(model, vrp_data, epochs=100)\n",
    "\n",
    "# 測試與評估\n",
    "evaluate_model(trained_model, vrp_data)\n",
    "\n",
    "# 顯示最佳路徑\n",
    "utils.visualize_routes(trained_model, vrp_data)\n"
   ]
  }
 ],
 "metadata": {
  "kernelspec": {
   "display_name": "marl_vrp",
   "language": "python",
   "name": "python3"
  },
  "language_info": {
   "codemirror_mode": {
    "name": "ipython",
    "version": 3
   },
   "file_extension": ".py",
   "mimetype": "text/x-python",
   "name": "python",
   "nbconvert_exporter": "python",
   "pygments_lexer": "ipython3",
   "version": "3.8.20"
  }
 },
 "nbformat": 4,
 "nbformat_minor": 2
}
