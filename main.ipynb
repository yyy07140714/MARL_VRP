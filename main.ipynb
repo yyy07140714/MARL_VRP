{
 "cells": [
  {
   "cell_type": "code",
   "execution_count": null,
   "metadata": {},
   "outputs": [],
   "source": [
    "# import torch\n",
    "# print(\"PyTorch 版本:\", torch.__version__)\n",
    "# print(\"CUDA 是否可用:\", torch.cuda.is_available())\n",
    "# print(\"CUDA 版本:\", torch.version.cuda)\n",
    "# print(\"GPU 數量:\", torch.cuda.device_count())\n",
    "# print(\"GPU 名稱:\", torch.cuda.get_device_name(0ss))\n"
   ]
  }
 ],
 "metadata": {
  "kernelspec": {
   "display_name": "marl_vrp",
   "language": "python",
   "name": "python3"
  },
  "language_info": {
   "codemirror_mode": {
    "name": "ipython",
    "version": 3
   },
   "file_extension": ".py",
   "mimetype": "text/x-python",
   "name": "python",
   "nbconvert_exporter": "python",
   "pygments_lexer": "ipython3",
   "version": "3.8.20"
  }
 },
 "nbformat": 4,
 "nbformat_minor": 2
}
