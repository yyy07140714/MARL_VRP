{
 "cells": [
  {
   "cell_type": "code",
   "execution_count": 10,
   "metadata": {},
   "outputs": [],
   "source": [
    "import pandas as pd\n",
    "df = pd.read_csv('Data/daily_data/0301.csv', encoding='utf-8')\n",
    "df_1 = pd.read_csv('Output/route_0301.csv', encoding='utf-8')\n",
    "\n",
    "x_min, x_max = df[\"X\"].min(), df[\"X\"].max()\n",
    "y_min, y_max = df[\"Y\"].min(), df[\"Y\"].max()\n",
    "\n",
    "df[\"X_norm\"] = (df[\"X\"] - x_min) / (x_max - x_min)\n",
    "df[\"Y_norm\"] = (df[\"Y\"] - y_min) / (y_max - y_min)\n",
    "\n",
    "df_inverse = pd.DataFrame()\n",
    "df_inverse[\"X\"] = df[\"X_norm\"] * (x_max - x_min) + x_min\n",
    "df_inverse[\"Y\"] = df[\"Y_norm\"] * (y_max - y_min) + y_min"
   ]
  },
  {
   "cell_type": "code",
   "execution_count": 11,
   "metadata": {},
   "outputs": [],
   "source": [
    "import matplotlib.pyplot as plt\n",
    "\n",
    "\n",
    "# 視覺化站點及座標\n",
    "def plot_vrp(df):\n",
    "    plt.figure(figsize=(8, 6))\n",
    "\n",
    "    plt.scatter(df[\"X\"], df[\"Y\"], c=\"blue\", marker=\"o\", label=\"Customers\")\n",
    "\n",
    "    # for i, row in df.iterrows():\n",
    "    #     plt.text(row[\"X\"], row[\"Y\"], str(row[\"Number\"]), fontsize=9, ha='right', va='bottom')\n",
    "\n",
    "    plt.xlim(df[\"X\"].min() - 500, df[\"X\"].max() + 500)\n",
    "    plt.ylim(df[\"Y\"].min() - 500, df[\"Y\"].max() + 500)\n",
    "\n",
    "    plt.xlabel(\"X Coordinate\")\n",
    "    plt.ylabel(\"Y Coordinate\")\n",
    "    plt.title(\"Vehicle Routing Problem (VRP) - Customer Locations\")\n",
    "\n",
    "    plt.grid(True, linestyle=\"--\", alpha=0.5)\n",
    "    plt.legend()\n",
    "    plt.show()"
   ]
  },
  {
   "cell_type": "code",
   "execution_count": null,
   "metadata": {},
   "outputs": [],
   "source": [
    "plot_vrp(df)"
   ]
  },
  {
   "cell_type": "code",
   "execution_count": null,
   "metadata": {},
   "outputs": [],
   "source": [
    "plot_vrp(df_1)"
   ]
  }
 ],
 "metadata": {
  "kernelspec": {
   "display_name": "marl_vrp",
   "language": "python",
   "name": "python3"
  },
  "language_info": {
   "codemirror_mode": {
    "name": "ipython",
    "version": 3
   },
   "file_extension": ".py",
   "mimetype": "text/x-python",
   "name": "python",
   "nbconvert_exporter": "python",
   "pygments_lexer": "ipython3",
   "version": "3.8.20"
  }
 },
 "nbformat": 4,
 "nbformat_minor": 2
}
